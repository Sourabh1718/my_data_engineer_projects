{
 "cells": [
  {
   "cell_type": "code",
   "execution_count": 1,
   "id": "55df2e7b",
   "metadata": {},
   "outputs": [
    {
     "name": "stdout",
     "output_type": "stream",
     "text": [
      "Note: you may need to restart the kernel to use updated packages.Collecting kafka-python\n",
      "  Obtaining dependency information for kafka-python from https://files.pythonhosted.org/packages/75/68/dcb0db055309f680ab2931a3eeb22d865604b638acf8c914bedf4c1a0c8c/kafka_python-2.0.2-py2.py3-none-any.whl.metadata\n",
      "  Downloading kafka_python-2.0.2-py2.py3-none-any.whl.metadata (7.8 kB)\n",
      "Downloading kafka_python-2.0.2-py2.py3-none-any.whl (246 kB)\n",
      "   ---------------------------------------- 0.0/246.5 kB ? eta -:--:--\n",
      "   ---------------- ----------------------- 102.4/246.5 kB 2.0 MB/s eta 0:00:01\n",
      "   ---------------------------------------- 246.5/246.5 kB 3.0 MB/s eta 0:00:00\n",
      "Installing collected packages: kafka-python\n",
      "Successfully installed kafka-python-2.0.2\n",
      "\n"
     ]
    },
    {
     "name": "stderr",
     "output_type": "stream",
     "text": [
      "\n",
      "[notice] A new release of pip is available: 23.2.1 -> 24.0\n",
      "[notice] To update, run: python.exe -m pip install --upgrade pip\n"
     ]
    }
   ],
   "source": [
    "pip install kafka-python"
   ]
  },
  {
   "cell_type": "code",
   "execution_count": 4,
   "id": "5395747c",
   "metadata": {},
   "outputs": [],
   "source": [
    "import pandas as pd\n",
    "from kafka import KafkaConsumer, KafkaProducer\n",
    "from time import sleep\n",
    "from json import dumps\n",
    "import json"
   ]
  },
  {
   "cell_type": "code",
   "execution_count": 5,
   "id": "eeb671f5",
   "metadata": {},
   "outputs": [],
   "source": [
    "producer = KafkaProducer(bootstrap_servers=['107.23.105.55:9092'], #change ip here\n",
    "                         value_serializer=lambda x: \n",
    "                         dumps(x).encode('utf-8'))"
   ]
  },
  {
   "cell_type": "code",
   "execution_count": 10,
   "id": "0a698928",
   "metadata": {},
   "outputs": [
    {
     "data": {
      "text/plain": [
       "<kafka.producer.future.FutureRecordMetadata at 0x1da7b7f0a50>"
      ]
     },
     "execution_count": 10,
     "metadata": {},
     "output_type": "execute_result"
    }
   ],
   "source": [
    "producer.send('demo_test', value={'firstname':'sourabh'})"
   ]
  },
  {
   "cell_type": "code",
   "execution_count": 12,
   "id": "094bb53f",
   "metadata": {},
   "outputs": [
    {
     "name": "stdout",
     "output_type": "stream",
     "text": [
      "<bound method NDFrame.head of           Index        Date          Open          High           Low  \\\n",
      "0           HSI  1986-12-31   2568.300049   2568.300049   2568.300049   \n",
      "1           HSI  1987-01-02   2540.100098   2540.100098   2540.100098   \n",
      "2           HSI  1987-01-05   2552.399902   2552.399902   2552.399902   \n",
      "3           HSI  1987-01-06   2583.899902   2583.899902   2583.899902   \n",
      "4           HSI  1987-01-07   2607.100098   2607.100098   2607.100098   \n",
      "...         ...         ...           ...           ...           ...   \n",
      "104219  J203.JO  2021-05-25  66054.921880  66812.453130  66022.976560   \n",
      "104220  J203.JO  2021-05-26  66076.679690  66446.367190  66030.351560   \n",
      "104221  J203.JO  2021-05-27  66108.226560  66940.250000  66102.546880   \n",
      "104222  J203.JO  2021-05-28  66940.250000  67726.562500  66794.609380   \n",
      "104223  J203.JO  2021-05-31  67554.859380  68140.851560  67554.859380   \n",
      "\n",
      "               Close     Adj Close  Volume     CloseUSD  \n",
      "0        2568.300049   2568.300049     0.0   333.879006  \n",
      "1        2540.100098   2540.100098     0.0   330.213013  \n",
      "2        2552.399902   2552.399902     0.0   331.811987  \n",
      "3        2583.899902   2583.899902     0.0   335.906987  \n",
      "4        2607.100098   2607.100098     0.0   338.923013  \n",
      "...              ...           ...     ...          ...  \n",
      "104219  66076.679690  66076.679690     0.0  4625.367578  \n",
      "104220  66108.226560  66108.226560     0.0  4627.575859  \n",
      "104221  66940.250000  66940.250000     0.0  4685.817500  \n",
      "104222  67554.859380  67554.859380     0.0  4728.840157  \n",
      "104223  67964.039060  67964.039060     0.0  4757.482734  \n",
      "\n",
      "[104224 rows x 9 columns]>\n"
     ]
    }
   ],
   "source": [
    "# Replace 'C:/path/to/your/file.csv' with the actual path to your CSV file on your Windows machine\n",
    "csv_file_path = r'C:\\Users\\Lenovo\\OneDrive\\GDS\\Data Engineering\\Project_3\\indexProcessed.csv'\n",
    "\n",
    "# Read the CSV file into a DataFrame\n",
    "df = pd.read_csv(csv_file_path)\n",
    "\n",
    "# Display the DataFrame\n",
    "print(df.head)"
   ]
  },
  {
   "cell_type": "code",
   "execution_count": null,
   "id": "6547119f",
   "metadata": {},
   "outputs": [],
   "source": [
    "while True:\n",
    "    dict_stock = df.sample(1).to_dict(orient=\"records\")[0]\n",
    "    producer.send('demo_test', value=dict_stock)"
   ]
  }
 ],
 "metadata": {
  "kernelspec": {
   "display_name": "Python 3 (ipykernel)",
   "language": "python",
   "name": "python3"
  },
  "language_info": {
   "codemirror_mode": {
    "name": "ipython",
    "version": 3
   },
   "file_extension": ".py",
   "mimetype": "text/x-python",
   "name": "python",
   "nbconvert_exporter": "python",
   "pygments_lexer": "ipython3",
   "version": "3.11.4"
  }
 },
 "nbformat": 4,
 "nbformat_minor": 5
}
